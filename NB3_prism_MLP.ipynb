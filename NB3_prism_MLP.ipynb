{
 "cells": [
  {
   "cell_type": "markdown",
   "metadata": {},
   "source": [
    "# Prism data processing"
   ]
  },
  {
   "cell_type": "markdown",
   "metadata": {},
   "source": [
    "### Setup"
   ]
  },
  {
   "cell_type": "markdown",
   "metadata": {},
   "source": [
    "#### Ensuring Reproducibility with Seeds\n",
    "\n",
    "\n"
   ]
  },
  {
   "cell_type": "code",
   "execution_count": 1,
   "metadata": {},
   "outputs": [],
   "source": [
    "seed_value=42\n",
    "import os\n",
    "os.environ['PYTHONHASHSEED']=str(seed_value)\n",
    "import random\n",
    "random.seed(seed_value)\n",
    "import numpy as np\n",
    "np.random.seed(seed_value)\n",
    "import tensorflow as tf\n",
    "tf.random.set_seed(seed_value)\n"
   ]
  },
  {
   "cell_type": "code",
   "execution_count": 2,
   "metadata": {},
   "outputs": [],
   "source": [
    "import pandas as pd\n",
    "\n",
    "import plotly.graph_objs as go\n",
    "from plotly.subplots import make_subplots\n",
    "import matplotlib.pyplot as plt\n",
    "import matplotlib.cm as cm\n",
    "import matplotlib.colors as mcolors\n",
    "\n",
    "from tqdm.auto import trange\n",
    "\n",
    "from scipy.signal import find_peaks\n",
    "\n",
    "from sklearn.model_selection import train_test_split\n",
    "from sklearn.metrics import mean_absolute_error\n",
    "\n",
    "from sklearn.linear_model import LinearRegression\n",
    "from sklearn.feature_selection import mutual_info_regression, f_regression\n",
    "\n",
    "from tensorflow.keras.models import Sequential\n",
    "from tensorflow.keras.layers import Dense, Normalization, Input, Activation, Concatenate\n",
    "from tensorflow.keras import layers, optimizers, callbacks, Model\n",
    "from keras.initializers import zeros\n",
    "import keras_tuner as kt\n",
    "from keras import backend as K"
   ]
  },
  {
   "cell_type": "code",
   "execution_count": 3,
   "metadata": {},
   "outputs": [],
   "source": [
    "from pyGDM2 import structures\n",
    "from pyGDM2 import materials\n",
    "from pyGDM2 import fields\n",
    "from pyGDM2 import propagators\n",
    "from pyGDM2 import core\n",
    "from pyGDM2 import visu\n",
    "from pyGDM2 import tools\n",
    "from pyGDM2 import linear"
   ]
  },
  {
   "cell_type": "code",
   "execution_count": 4,
   "metadata": {},
   "outputs": [],
   "source": [
    "plt.rcParams.update({\n",
    "   \"font.family\": \"serif\",  # use serif/main font for text elements\n",
    "   \"text.usetex\": True,     # use inline math for ticks\n",
    "   \"pgf.rcfonts\": False     # don't setup fonts from rc parameters\n",
    "   })"
   ]
  },
  {
   "cell_type": "markdown",
   "metadata": {},
   "source": [
    "### Read and display data"
   ]
  },
  {
   "cell_type": "code",
   "execution_count": 26,
   "metadata": {},
   "outputs": [
    {
     "data": {
      "text/html": [
       "<div>\n",
       "<style scoped>\n",
       "    .dataframe tbody tr th:only-of-type {\n",
       "        vertical-align: middle;\n",
       "    }\n",
       "\n",
       "    .dataframe tbody tr th {\n",
       "        vertical-align: top;\n",
       "    }\n",
       "\n",
       "    .dataframe thead th {\n",
       "        text-align: right;\n",
       "    }\n",
       "</style>\n",
       "<table border=\"1\" class=\"dataframe\">\n",
       "  <thead>\n",
       "    <tr style=\"text-align: right;\">\n",
       "      <th></th>\n",
       "      <th>length</th>\n",
       "      <th>height</th>\n",
       "      <th>edge</th>\n",
       "      <th>ni</th>\n",
       "      <th>thetax</th>\n",
       "      <th>thetay</th>\n",
       "      <th>thetaz</th>\n",
       "      <th>Ext. maxima</th>\n",
       "      <th>wavelgth ext. max.</th>\n",
       "      <th>Sca. maxima</th>\n",
       "      <th>wavelgth sca. max.</th>\n",
       "      <th>Abs. maxima</th>\n",
       "      <th>wavelgth abs. max.</th>\n",
       "      <th>EF. maxima</th>\n",
       "      <th>wavelgth ef. max.</th>\n",
       "    </tr>\n",
       "  </thead>\n",
       "  <tbody>\n",
       "    <tr>\n",
       "      <th>0</th>\n",
       "      <td>137.0</td>\n",
       "      <td>14.7</td>\n",
       "      <td>0.81</td>\n",
       "      <td>1.84</td>\n",
       "      <td>27.0</td>\n",
       "      <td>6.0</td>\n",
       "      <td>15.0</td>\n",
       "      <td>35496.257023</td>\n",
       "      <td>838.0</td>\n",
       "      <td>12917.745126</td>\n",
       "      <td>838.0</td>\n",
       "      <td>22578.511897</td>\n",
       "      <td>838.0</td>\n",
       "      <td>1.286153</td>\n",
       "      <td>862.0</td>\n",
       "    </tr>\n",
       "    <tr>\n",
       "      <th>1</th>\n",
       "      <td>134.0</td>\n",
       "      <td>16.2</td>\n",
       "      <td>0.89</td>\n",
       "      <td>1.94</td>\n",
       "      <td>48.0</td>\n",
       "      <td>39.0</td>\n",
       "      <td>33.0</td>\n",
       "      <td>12977.941537</td>\n",
       "      <td>868.0</td>\n",
       "      <td>4275.411517</td>\n",
       "      <td>865.0</td>\n",
       "      <td>8730.240013</td>\n",
       "      <td>868.0</td>\n",
       "      <td>1.104350</td>\n",
       "      <td>907.0</td>\n",
       "    </tr>\n",
       "    <tr>\n",
       "      <th>2</th>\n",
       "      <td>156.0</td>\n",
       "      <td>19.3</td>\n",
       "      <td>0.82</td>\n",
       "      <td>1.33</td>\n",
       "      <td>27.0</td>\n",
       "      <td>90.0</td>\n",
       "      <td>27.0</td>\n",
       "      <td>1752.227703</td>\n",
       "      <td>508.0</td>\n",
       "      <td>114.708661</td>\n",
       "      <td>523.0</td>\n",
       "      <td>1648.593840</td>\n",
       "      <td>505.0</td>\n",
       "      <td>1.028197</td>\n",
       "      <td>559.0</td>\n",
       "    </tr>\n",
       "    <tr>\n",
       "      <th>3</th>\n",
       "      <td>131.0</td>\n",
       "      <td>18.0</td>\n",
       "      <td>0.81</td>\n",
       "      <td>1.64</td>\n",
       "      <td>66.0</td>\n",
       "      <td>69.0</td>\n",
       "      <td>3.0</td>\n",
       "      <td>25879.449014</td>\n",
       "      <td>736.0</td>\n",
       "      <td>8787.740190</td>\n",
       "      <td>730.0</td>\n",
       "      <td>17142.814271</td>\n",
       "      <td>736.0</td>\n",
       "      <td>1.168914</td>\n",
       "      <td>766.0</td>\n",
       "    </tr>\n",
       "    <tr>\n",
       "      <th>4</th>\n",
       "      <td>138.0</td>\n",
       "      <td>10.0</td>\n",
       "      <td>0.33</td>\n",
       "      <td>1.38</td>\n",
       "      <td>27.0</td>\n",
       "      <td>36.0</td>\n",
       "      <td>12.0</td>\n",
       "      <td>22717.188788</td>\n",
       "      <td>808.0</td>\n",
       "      <td>4969.636688</td>\n",
       "      <td>808.0</td>\n",
       "      <td>17751.289608</td>\n",
       "      <td>805.0</td>\n",
       "      <td>1.175315</td>\n",
       "      <td>808.0</td>\n",
       "    </tr>\n",
       "    <tr>\n",
       "      <th>...</th>\n",
       "      <td>...</td>\n",
       "      <td>...</td>\n",
       "      <td>...</td>\n",
       "      <td>...</td>\n",
       "      <td>...</td>\n",
       "      <td>...</td>\n",
       "      <td>...</td>\n",
       "      <td>...</td>\n",
       "      <td>...</td>\n",
       "      <td>...</td>\n",
       "      <td>...</td>\n",
       "      <td>...</td>\n",
       "      <td>...</td>\n",
       "      <td>...</td>\n",
       "      <td>...</td>\n",
       "    </tr>\n",
       "    <tr>\n",
       "      <th>1019</th>\n",
       "      <td>112.0</td>\n",
       "      <td>9.8</td>\n",
       "      <td>0.72</td>\n",
       "      <td>1.90</td>\n",
       "      <td>51.0</td>\n",
       "      <td>39.0</td>\n",
       "      <td>57.0</td>\n",
       "      <td>8040.319155</td>\n",
       "      <td>862.0</td>\n",
       "      <td>2841.506976</td>\n",
       "      <td>859.0</td>\n",
       "      <td>5207.675465</td>\n",
       "      <td>862.0</td>\n",
       "      <td>1.066583</td>\n",
       "      <td>892.0</td>\n",
       "    </tr>\n",
       "    <tr>\n",
       "      <th>1020</th>\n",
       "      <td>64.0</td>\n",
       "      <td>16.0</td>\n",
       "      <td>0.37</td>\n",
       "      <td>1.27</td>\n",
       "      <td>18.0</td>\n",
       "      <td>81.0</td>\n",
       "      <td>54.0</td>\n",
       "      <td>3454.676109</td>\n",
       "      <td>610.0</td>\n",
       "      <td>316.395760</td>\n",
       "      <td>613.0</td>\n",
       "      <td>3145.961656</td>\n",
       "      <td>607.0</td>\n",
       "      <td>1.035611</td>\n",
       "      <td>619.0</td>\n",
       "    </tr>\n",
       "    <tr>\n",
       "      <th>1021</th>\n",
       "      <td>142.0</td>\n",
       "      <td>15.1</td>\n",
       "      <td>0.23</td>\n",
       "      <td>1.98</td>\n",
       "      <td>57.0</td>\n",
       "      <td>54.0</td>\n",
       "      <td>87.0</td>\n",
       "      <td>4836.022147</td>\n",
       "      <td>775.0</td>\n",
       "      <td>1277.052391</td>\n",
       "      <td>772.0</td>\n",
       "      <td>3590.933190</td>\n",
       "      <td>775.0</td>\n",
       "      <td>1.022872</td>\n",
       "      <td>424.0</td>\n",
       "    </tr>\n",
       "    <tr>\n",
       "      <th>1022</th>\n",
       "      <td>138.0</td>\n",
       "      <td>20.0</td>\n",
       "      <td>0.74</td>\n",
       "      <td>1.99</td>\n",
       "      <td>72.0</td>\n",
       "      <td>48.0</td>\n",
       "      <td>78.0</td>\n",
       "      <td>4695.058647</td>\n",
       "      <td>511.0</td>\n",
       "      <td>1226.458577</td>\n",
       "      <td>880.0</td>\n",
       "      <td>4109.071210</td>\n",
       "      <td>511.0</td>\n",
       "      <td>1.039708</td>\n",
       "      <td>466.0</td>\n",
       "    </tr>\n",
       "    <tr>\n",
       "      <th>1023</th>\n",
       "      <td>83.0</td>\n",
       "      <td>10.8</td>\n",
       "      <td>0.81</td>\n",
       "      <td>1.27</td>\n",
       "      <td>0.0</td>\n",
       "      <td>12.0</td>\n",
       "      <td>60.0</td>\n",
       "      <td>6533.908848</td>\n",
       "      <td>613.0</td>\n",
       "      <td>402.028972</td>\n",
       "      <td>616.0</td>\n",
       "      <td>6138.217745</td>\n",
       "      <td>613.0</td>\n",
       "      <td>1.060898</td>\n",
       "      <td>622.0</td>\n",
       "    </tr>\n",
       "  </tbody>\n",
       "</table>\n",
       "<p>1024 rows × 15 columns</p>\n",
       "</div>"
      ],
      "text/plain": [
       "      length  height  edge    ni  thetax  thetay  thetaz   Ext. maxima  \\\n",
       "0      137.0    14.7  0.81  1.84    27.0     6.0    15.0  35496.257023   \n",
       "1      134.0    16.2  0.89  1.94    48.0    39.0    33.0  12977.941537   \n",
       "2      156.0    19.3  0.82  1.33    27.0    90.0    27.0   1752.227703   \n",
       "3      131.0    18.0  0.81  1.64    66.0    69.0     3.0  25879.449014   \n",
       "4      138.0    10.0  0.33  1.38    27.0    36.0    12.0  22717.188788   \n",
       "...      ...     ...   ...   ...     ...     ...     ...           ...   \n",
       "1019   112.0     9.8  0.72  1.90    51.0    39.0    57.0   8040.319155   \n",
       "1020    64.0    16.0  0.37  1.27    18.0    81.0    54.0   3454.676109   \n",
       "1021   142.0    15.1  0.23  1.98    57.0    54.0    87.0   4836.022147   \n",
       "1022   138.0    20.0  0.74  1.99    72.0    48.0    78.0   4695.058647   \n",
       "1023    83.0    10.8  0.81  1.27     0.0    12.0    60.0   6533.908848   \n",
       "\n",
       "      wavelgth ext. max.   Sca. maxima  wavelgth sca. max.   Abs. maxima  \\\n",
       "0                  838.0  12917.745126               838.0  22578.511897   \n",
       "1                  868.0   4275.411517               865.0   8730.240013   \n",
       "2                  508.0    114.708661               523.0   1648.593840   \n",
       "3                  736.0   8787.740190               730.0  17142.814271   \n",
       "4                  808.0   4969.636688               808.0  17751.289608   \n",
       "...                  ...           ...                 ...           ...   \n",
       "1019               862.0   2841.506976               859.0   5207.675465   \n",
       "1020               610.0    316.395760               613.0   3145.961656   \n",
       "1021               775.0   1277.052391               772.0   3590.933190   \n",
       "1022               511.0   1226.458577               880.0   4109.071210   \n",
       "1023               613.0    402.028972               616.0   6138.217745   \n",
       "\n",
       "      wavelgth abs. max.  EF. maxima  wavelgth ef. max.  \n",
       "0                  838.0    1.286153              862.0  \n",
       "1                  868.0    1.104350              907.0  \n",
       "2                  505.0    1.028197              559.0  \n",
       "3                  736.0    1.168914              766.0  \n",
       "4                  805.0    1.175315              808.0  \n",
       "...                  ...         ...                ...  \n",
       "1019               862.0    1.066583              892.0  \n",
       "1020               607.0    1.035611              619.0  \n",
       "1021               775.0    1.022872              424.0  \n",
       "1022               511.0    1.039708              466.0  \n",
       "1023               613.0    1.060898              622.0  \n",
       "\n",
       "[1024 rows x 15 columns]"
      ]
     },
     "execution_count": 26,
     "metadata": {},
     "output_type": "execute_result"
    }
   ],
   "source": [
    "df1=pd.read_csv(r'prism_dataset.csv')\n",
    "df1"
   ]
  },
  {
   "cell_type": "markdown",
   "metadata": {},
   "source": [
    "### Defining the different sets"
   ]
  },
  {
   "cell_type": "code",
   "execution_count": 7,
   "metadata": {},
   "outputs": [],
   "source": [
    "X=df[['length','height','edge','ni','thetax','thetay','thetaz']]\n",
    "Y=df[['wavelgth ext. max.']]\n",
    "X_train, X_test,Y_train, Y_test = train_test_split(X,Y, test_size=0.2, random_state=42)"
   ]
  },
  {
   "cell_type": "markdown",
   "metadata": {},
   "source": [
    "# Multilayer perceptron for regression"
   ]
  },
  {
   "cell_type": "markdown",
   "metadata": {},
   "source": [
    "Parametring the model"
   ]
  },
  {
   "cell_type": "code",
   "execution_count": 6,
   "metadata": {},
   "outputs": [],
   "source": [
    "def build_modelMLP3(hp):\n",
    "    \"\"\"\n",
    "    This function builds a Sequential multi-layer perceptron (MLP) model with a variable number of hidden dense layers.\n",
    "    The number of hidden layers, number of neurons in each hidden layer, and the learning rate for the model's optimizer are determined by a hyperparameter search space.\n",
    "\n",
    "    Arguments:\n",
    "    hp -- Keras Tuner hyperparameters class instance, used for defining the learning rate range, the number of neurons, and the number of hidden layers\n",
    "\n",
    "    Returns:\n",
    "    The constructed Sequential MLP model with defined optimizer, loss function, learning rate, neuron count, and hidden layer count.\n",
    "    \"\"\"\n",
    "    n_hidden = hp.Int(\"n_hidden\", min_value=2, max_value=4)\n",
    "    n_neurons = hp.Int(\"n_neurons\", min_value=1, max_value=400)\n",
    "    learning_rate = hp.Float(\"learning_rate\", min_value=1e-4, max_value=1e-1,sampling=\"log\")\n",
    "\n",
    "\n",
    "    model=Sequential() \n",
    "    model.add(Normalization(input_shape=[7]))\n",
    "    for _ in range(n_hidden):\n",
    "        model.add(Dense(units=n_neurons,activation='swish',kernel_initializer=\"he_normal\"))\n",
    "    model.add(Dense(units=1))\n",
    "    model.compile(optimizer=optimizers.Adam(learning_rate), loss='mean_squared_error',metrics=[\"accuracy\"])\n",
    "    return model"
   ]
  },
  {
   "cell_type": "code",
   "execution_count": 9,
   "metadata": {},
   "outputs": [
    {
     "name": "stdout",
     "output_type": "stream",
     "text": [
      "INFO:tensorflow:Oracle triggered exit\n"
     ]
    },
    {
     "data": {
      "text/plain": [
       "{'n_hidden': 3, 'n_neurons': 119, 'learning_rate': 0.09612513400908385}"
      ]
     },
     "execution_count": 9,
     "metadata": {},
     "output_type": "execute_result"
    }
   ],
   "source": [
    "objective = kt.Objective(\"val_accuracy\", direction=\"max\")\n",
    "#Use a bayesian tuner to find the best hyperparameters\n",
    "bayesian_tuner = kt.BayesianOptimization(\n",
    "    build_modelMLP3,\n",
    "    objective=objective,\n",
    "    max_trials=10,\n",
    "    overwrite=True,\n",
    "    directory=\"hpMLP3\",\n",
    "    project_name=\"my_bayesian_search\",\n",
    ")\n",
    "#lr_scheduler = tf.keras.callbacks.ReduceLROnPlateau(factor=0.5, patience=5)\n",
    "bayesian_tuner.search(X_train, Y_train, epochs=1000,batch_size=4,validation_split=0.2,verbose=False)\n",
    "bayesian_tuner.get_best_hyperparameters()[0].values"
   ]
  },
  {
   "cell_type": "markdown",
   "metadata": {},
   "source": [
    "### Building and Training the Model\n"
   ]
  },
  {
   "cell_type": "code",
   "execution_count": 8,
   "metadata": {},
   "outputs": [
    {
     "name": "stderr",
     "output_type": "stream",
     "text": [
      "2023-06-29 18:57:54.417994: W tensorflow/tsl/platform/profile_utils/cpu_utils.cc:128] Failed to get CPU frequency: 0 Hz\n"
     ]
    },
    {
     "name": "stdout",
     "output_type": "stream",
     "text": [
      "7/7 [==============================] - 0s 828us/step - loss: 6291.3315\n",
      "1/1 [==============================] - 0s 109ms/step\n"
     ]
    },
    {
     "data": {
      "text/plain": [
       "(6167,\n",
       " 6291.33154296875,\n",
       " array([[690.04156],\n",
       "        [738.5098 ]], dtype=float32),\n",
       "      wavelgth ext. max.\n",
       " 525               685.0\n",
       " 357               790.0)"
      ]
     },
     "execution_count": 8,
     "metadata": {},
     "output_type": "execute_result"
    }
   ],
   "source": [
    "# Build the model with the optimal hyperparameters and train it on the data\n",
    "modelMLP2=Sequential() \n",
    "modelMLP2.add(Normalization(input_shape=[7]))\n",
    "for _ in range(2):\n",
    "        modelMLP2.add(Dense(units=20,activation='swish',kernel_initializer=\"he_normal\"))\n",
    "modelMLP2.add(Dense(units=1))\n",
    "modelMLP2.compile(optimizer=optimizers.Adam(learning_rate=1e-2), loss='mean_squared_error')\n",
    "\n",
    "#train\n",
    "lr_scheduler = tf.keras.callbacks.ReduceLROnPlateau(factor=0.5, patience=500)\n",
    "early_stopping_cb = callbacks.EarlyStopping(monitor='val_loss',patience=2000,restore_best_weights=True)\n",
    "history=modelMLP2.fit(X_train, Y_train, epochs=10000,validation_split=0.2,verbose=False,callbacks=[early_stopping_cb,lr_scheduler],batch_size=1)\n",
    "\n",
    "#evaluate the model\n",
    "\n",
    "early_stopping_cb.stopped_epoch\n"
   ]
  },
  {
   "cell_type": "code",
   "execution_count": 22,
   "metadata": {},
   "outputs": [
    {
     "data": {
      "image/png": "[encoded data removed]",
      "text/plain": [
       "<Figure size 640x480 with 1 Axes>"
      ]
     },
     "metadata": {},
     "output_type": "display_data"
    },
    {
     "name": "stdout",
     "output_type": "stream",
     "text": [
      "7/7 [==============================] - 0s 921us/step - loss: 6291.3315\n",
      "7/7 [==============================] - 0s 612us/step\n",
      "RMSE : 79.3179143886723 nm MAE : 47.186380823647106 nm\n"
     ]
    }
   ],
   "source": [
    "plt.semilogy(history.history['loss'])\n",
    "plt.semilogy(history.history['val_loss'])\n",
    "plt.title('Fonction de perte par rapport au nombre d\\'epochs')\n",
    "plt.ylabel('Perte')\n",
    "plt.xlabel('Epoch')\n",
    "plt.legend(['Training loss','Validation loss'])\n",
    "plt.show()\n",
    "\n",
    "mse_test=modelMLP2.evaluate(X_test, Y_test)\n",
    "rmse=np.sqrt(mse_test)\n",
    "mae=mean_absolute_error(Y_test,modelMLP2.predict(X_test))\n",
    "print('RMSE :',rmse,'nm','MAE :',mae,'nm')\n"
   ]
  },
  {
   "cell_type": "markdown",
   "metadata": {},
   "source": [
    "### Learning process through epochs (performance scheduling) "
   ]
  },
  {
   "cell_type": "code",
   "execution_count": 23,
   "metadata": {},
   "outputs": [
    {
     "data": {
      "image/png": "[encoded data removed]",
      "text/plain": [
       "<Figure size 640x480 with 1 Axes>"
      ]
     },
     "metadata": {},
     "output_type": "display_data"
    }
   ],
   "source": [
    "plt.semilogy(history.history[\"lr\"])\n",
    "plt.title('Learning rate with respect to the number of epochs')\n",
    "plt.ylabel('Learning rate')\n",
    "plt.xlabel('Epoch')\n",
    "plt.show()"
   ]
  },
  {
   "cell_type": "markdown",
   "metadata": {},
   "source": [
    "# Test against a randomly chosen plasmon band"
   ]
  },
  {
   "cell_type": "markdown",
   "metadata": {},
   "source": [
    "The mean absolute error is not deemed particularly relevant for assessing the performance of the model in this context. A different metric is needed for comparison. For this purpose, the mean absolute error could be calculated as if the predicted $\\lambda_{LSPR}$ value were randomly chosen from within the studied range of wavelengths.\n",
    "\n",
    "It appears that the model's performance is approximately twice as good as a random selection of a $\\lambda_{LSPR}$ value."
   ]
  },
  {
   "cell_type": "code",
   "execution_count": 25,
   "metadata": {},
   "outputs": [
    {
     "name": "stdout",
     "output_type": "stream",
     "text": [
      "random MAE 84.29411764705883\n"
     ]
    }
   ],
   "source": [
    "err_rand=[]\n",
    "\n",
    "for i in np.linspace(600, 850, 51):\n",
    "    rand_wl=np.random.randint(600,850)\n",
    "    err_rand.append(np.abs(rand_wl-i))\n",
    "mae_rand=np.mean(err_rand)\n",
    "print('random MAE',mae_rand)"
   ]
  }
 ],
 "metadata": {
  "kernelspec": {
   "display_name": "Python 3.9.12",
   "language": "python",
   "name": "python3"
  },
  "language_info": {
   "codemirror_mode": {
    "name": "ipython",
    "version": 3
   },
   "file_extension": ".py",
   "mimetype": "text/x-python",
   "name": "python",
   "nbconvert_exporter": "python",
   "pygments_lexer": "ipython3",
   "version": "3.9.12"
  },
  "orig_nbformat": 4,
  "vscode": {
   "interpreter": {
    "hash": "1c38649d11807b197e5563265a8a18952afb449cb4194d5363acbbf24e97a87f"
   }
  }
 },
 "nbformat": 4,
 "nbformat_minor": 2
}
